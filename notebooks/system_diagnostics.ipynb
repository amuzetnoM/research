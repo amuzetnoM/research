{
 "cells": [
  {
   "cell_type": "markdown",
   "id": "cbe0db89",
   "metadata": {},
   "source": [
    "# System Diagnostics and Resource Monitoring\n",
    "\n",
    "This notebook demonstrates how to use the utility modules to monitor system resources, detect GPU capabilities, and optimize memory usage in the research environment."
   ]
  },
  {
   "cell_type": "markdown",
   "id": "6e9888cc",
   "metadata": {},
   "source": [
    "## 1. Import Required Modules\n",
    "\n",
    "Let's start by importing the necessary utilities from our research environment."
   ]
  },
  {
   "cell_type": "code",
   "execution_count": null,
   "id": "d9574c99",
   "metadata": {},
   "outputs": [],
   "source": [
    "# Import system utilities\n",
    "import sys\n",
    "import os\n",
    "import psutil\n",
    "import platform\n",
    "\n",
    "# Import custom utilities\n",
    "sys.path.append('..')\n",
    "from utils.system_utils import system_manager\n",
    "from utils.gpu_utils import gpu_manager\n",
    "from utils.memory_optimizer import get_memory_optimization_settings\n",
    "\n",
    "print(f\"Python version: {platform.python_version()}\")\n",
    "print(f\"System platform: {platform.platform()}\")"
   ]
  },
  {
   "cell_type": "markdown",
   "id": "9eee2beb",
   "metadata": {},
   "source": [
    "## 2. System Resource Overview\n",
    "\n",
    "Let's check the current system resources using our utility functions."
   ]
  },
  {
   "cell_type": "code",
   "execution_count": null,
   "id": "b61da5ef",
   "metadata": {},
   "outputs": [],
   "source": [
    "# Get system summary\n",
    "system_summary = system_manager.get_system_summary()\n",
    "\n",
    "# Display key metrics\n",
    "print(f\"CPU Usage: {system_summary['cpu_percent']:.1f}%\")\n",
    "print(f\"Memory Usage: {system_summary['memory_percent']:.1f}%\")\n",
    "print(f\"Disk Usage: {system_summary['disk_percent']:.1f}%\")\n",
    "print(f\"Network In: {system_summary['network_recv_bytes']/1024:.1f} KB/s\")\n",
    "print(f\"Network Out: {system_summary['network_sent_bytes']/1024:.1f} KB/s\")"
   ]
  },
  {
   "cell_type": "markdown",
   "id": "dea0544b",
   "metadata": {},
   "source": [
    "## 3. GPU Detection and Information\n",
    "\n",
    "Check if GPUs are available and get their details."
   ]
  },
  {
   "cell_type": "code",
   "execution_count": null,
   "id": "839ee4ea",
   "metadata": {},
   "outputs": [],
   "source": [
    "# Check GPU availability\n",
    "gpu_available = gpu_manager.check_gpu_availability()\n",
    "print(f\"GPU available: {gpu_available}\")\n",
    "\n",
    "if gpu_available:\n",
    "    # Get GPU information\n",
    "    gpu_info = gpu_manager.get_gpu_info()\n",
    "    \n",
    "    print(f\"\\nGPU Count: {len(gpu_info)}\")\n",
    "    \n",
    "    for idx, gpu in enumerate(gpu_info):\n",
    "        print(f\"\\nGPU {idx}:\")\n",
    "        print(f\"  Name: {gpu.get('name', 'Unknown')}\")\n",
    "        print(f\"  Memory Total: {gpu.get('memory_total_mb', 0)} MB\")\n",
    "        print(f\"  Memory Used: {gpu.get('memory_used_mb', 0)} MB\")\n",
    "        print(f\"  Utilization: {gpu.get('utilization_percent', 0)}%\")\n",
    "        print(f\"  Temperature: {gpu.get('temperature_c', 0)}°C\")\n",
    "        \n",
    "    # Check Docker GPU support\n",
    "    docker_gpu_support = gpu_manager.check_docker_gpu_support()\n",
    "    print(f\"\\nNVIDIA Docker support: {docker_gpu_support}\")\n",
    "else:\n",
    "    print(\"No GPU detected. Running in CPU-only mode.\")"
   ]
  },
  {
   "cell_type": "markdown",
   "id": "b9e50a9a",
   "metadata": {},
   "source": [
    "## 4. Memory Optimization Settings\n",
    "\n",
    "Get recommended memory optimization settings for ML frameworks."
   ]
  },
  {
   "cell_type": "code",
   "execution_count": null,
   "id": "eb4ea713",
   "metadata": {},
   "outputs": [],
   "source": [
    "# Get memory optimization settings\n",
    "memory_settings = get_memory_optimization_settings()\n",
    "\n",
    "print(\"Recommended Memory Optimization Settings:\")\n",
    "for key, value in memory_settings.items():\n",
    "    print(f\"  {key}: {value}\")"
   ]
  },
  {
   "cell_type": "markdown",
   "id": "1b54768a",
   "metadata": {},
   "source": [
    "## 5. Real-time Resource Monitoring\n",
    "\n",
    "Set up a simple monitoring function to track resources over time."
   ]
  },
  {
   "cell_type": "code",
   "execution_count": null,
   "id": "0d54d78b",
   "metadata": {},
   "outputs": [],
   "source": [
    "import time\n",
    "import matplotlib.pyplot as plt\n",
    "import numpy as np\n",
    "%matplotlib inline\n",
    "\n",
    "# Create arrays for monitoring data\n",
    "timestamps = []\n",
    "cpu_data = []\n",
    "memory_data = []\n",
    "\n",
    "# Function to update the plot\n",
    "def monitor_resources(duration=30, interval=1):\n",
    "    plt.figure(figsize=(12, 6))\n",
    "    \n",
    "    # Initialize data arrays\n",
    "    timestamps.clear()\n",
    "    cpu_data.clear()\n",
    "    memory_data.clear()\n",
    "    \n",
    "    start_time = time.time()\n",
    "    current_time = start_time\n",
    "    \n",
    "    while current_time - start_time < duration:\n",
    "        # Get current metrics\n",
    "        cpu_percent = psutil.cpu_percent()\n",
    "        memory_percent = psutil.virtual_memory().percent\n",
    "        \n",
    "        # Append to data arrays\n",
    "        timestamps.append(current_time - start_time)\n",
    "        cpu_data.append(cpu_percent)\n",
    "        memory_data.append(memory_percent)\n",
    "        \n",
    "        # Clear and redraw plot\n",
    "        plt.clf()\n",
    "        plt.plot(timestamps, cpu_data, label='CPU %')\n",
    "        plt.plot(timestamps, memory_data, label='Memory %')\n",
    "        plt.xlabel('Time (seconds)')\n",
    "        plt.ylabel('Usage %')\n",
    "        plt.title('System Resource Usage')\n",
    "        plt.legend()\n",
    "        plt.grid(True)\n",
    "        plt.ylim(0, 100)\n",
    "        plt.xlim(0, duration)\n",
    "        plt.pause(interval)\n",
    "        \n",
    "        # Update current time\n",
    "        time.sleep(interval)\n",
    "        current_time = time.time()\n",
    "    \n",
    "    plt.show()\n",
    "\n",
    "# Uncomment to run monitoring for 30 seconds\n",
    "# monitor_resources(duration=30, interval=1)"
   ]
  },
  {
   "cell_type": "markdown",
   "id": "9b0469dd",
   "metadata": {},
   "source": [
    "## 6. Summary and Recommendations\n",
    "\n",
    "Based on the system diagnostics, here are some recommendations for optimizing your research environment."
   ]
  },
  {
   "cell_type": "code",
   "execution_count": null,
   "id": "09974998",
   "metadata": {},
   "outputs": [],
   "source": [
    "def get_recommendations():\n",
    "    recommendations = []\n",
    "    system_summary = system_manager.get_system_summary()\n",
    "    \n",
    "    # CPU recommendations\n",
    "    if system_summary['cpu_percent'] > 80:\n",
    "        recommendations.append(\"CPU usage is high. Consider reducing the number of parallel processes.\")\n",
    "    \n",
    "    # Memory recommendations\n",
    "    if system_summary['memory_percent'] > 80:\n",
    "        recommendations.append(\"Memory usage is high. Consider using smaller batch sizes or enabling memory optimization.\")\n",
    "    \n",
    "    # GPU recommendations\n",
    "    if gpu_manager.check_gpu_availability():\n",
    "        gpu_info = gpu_manager.get_gpu_info()\n",
    "        for idx, gpu in enumerate(gpu_info):\n",
    "            memory_used_percent = gpu.get('memory_used_mb', 0) / gpu.get('memory_total_mb', 1) * 100\n",
    "            if memory_used_percent > 80:\n",
    "                recommendations.append(f\"GPU {idx} memory usage is high ({memory_used_percent:.1f}%). Consider enabling mixed precision training.\")\n",
    "    else:\n",
    "        recommendations.append(\"No GPU detected. For faster training, consider running on a GPU-enabled system.\")\n",
    "    \n",
    "    # If no specific recommendations\n",
    "    if not recommendations:\n",
    "        recommendations.append(\"System resources look good. No specific optimizations needed at this time.\")\n",
    "    \n",
    "    return recommendations\n",
    "\n",
    "# Get and display recommendations\n",
    "recommendations = get_recommendations()\n",
    "print(\"System Recommendations:\")\n",
    "for i, rec in enumerate(recommendations, 1):\n",
    "    print(f\"{i}. {rec}\")"
   ]
  }
 ],
 "metadata": {
  "language_info": {
   "name": "python"
  }
 },
 "nbformat": 4,
 "nbformat_minor": 5
}
