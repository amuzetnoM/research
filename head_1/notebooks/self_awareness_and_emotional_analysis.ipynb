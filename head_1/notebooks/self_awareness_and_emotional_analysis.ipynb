{
 "cells": [
  {
   "cell_type": "markdown",
   "id": "cc5cd7a2",
   "metadata": {},
   "source": [
    "# Self-Awareness Mechanics and Emotional Dimensionality Framework Demo\n",
    "\n",
    "This notebook demonstrates how to use the Self-Awareness Mechanics and Emotional Dimensionality Framework together.\n",
    "\n",
    "## Introduction\n",
    "\n",
    "- **Self-Awareness Mechanics**: Provides computational self-awareness through monitoring and modeling of system capabilities and limitations\n",
    "- **Emotional Dimensionality Framework**: Provides advanced sentiment analysis beyond simple polarity detection"
   ]
  },
  {
   "cell_type": "code",
   "execution_count": null,
   "id": "148d5207",
   "metadata": {},
   "outputs": [],
   "source": [
    "# Import necessary modules\n",
    "import sys\n",
    "import os\n",
    "import time\n",
    "import logging\n",
    "import json\n",
    "import matplotlib.pyplot as plt\n",
    "import numpy as np\n",
    "\n",
    "# Add parent directory to path if needed\n",
    "sys.path.append('/app')\n",
    "\n",
    "# Configure logging\n",
    "logging.basicConfig(level=logging.INFO)"
   ]
  },
  {
   "cell_type": "markdown",
   "id": "f4ae1dd2",
   "metadata": {},
   "source": [
    "## 1. Initialize Frameworks\n",
    "\n",
    "First, let's initialize both frameworks individually."
   ]
  },
  {
   "cell_type": "code",
   "execution_count": null,
   "id": "06dce617",
   "metadata": {},
   "outputs": [],
   "source": [
    "# Import frameworks\n",
    "from system.ai_frameworks import get_self_awareness_framework, get_emotional_framework\n",
    "from system.ai_frameworks.config import get_self_awareness_config, get_emotional_config\n",
    "\n",
    "# Get configurations\n",
    "sa_config = get_self_awareness_config()\n",
    "edf_config = get_emotional_config()\n",
    "\n",
    "# Display configurations\n",
    "print(\"Self-Awareness Configuration:\")\n",
    "print(json.dumps(sa_config, indent=2))\n",
    "print(\"\\nEmotional Dimensionality Configuration:\")\n",
    "print(json.dumps(edf_config, indent=2))"
   ]
  },
  {
   "cell_type": "code",
   "execution_count": null,
   "id": "1596b760",
   "metadata": {},
   "outputs": [],
   "source": [
    "# Initialize frameworks\n",
    "sa_framework = get_self_awareness_framework(sa_config)\n",
    "edf_framework = get_emotional_framework(edf_config)\n",
    "\n",
    "# Start self-awareness framework\n",
    "sa_framework.start()\n",
    "\n",
    "print(\"Frameworks initialized successfully\")"
   ]
  },
  {
   "cell_type": "markdown",
   "id": "92f681bc",
   "metadata": {},
   "source": [
    "## 2. Explore Self-Awareness Mechanics\n",
    "\n",
    "Let's examine the self-awareness capabilities."
   ]
  },
  {
   "cell_type": "code",
   "execution_count": null,
   "id": "f8d185c5",
   "metadata": {},
   "outputs": [],
   "source": [
    "# Let the system run for a moment to collect data\n",
    "time.sleep(5)\n",
    "\n",
    "# Get the current self-model\n",
    "self_model = sa_framework.get_self_model()\n",
    "\n",
    "# Display key aspects of the self-model\n",
    "print(\"System Self-Model:\")\n",
    "print(f\"ID: {self_model['id']}\")\n",
    "print(f\"Created: {time.ctime(self_model['created_at'])}\")\n",
    "print(f\"Last Updated: {time.ctime(self_model['last_updated'])}\")\n",
    "print(f\"\\nSystem Confidence: {sa_framework.estimate_system_confidence():.2f}\")\n",
    "\n",
    "# Display capability report\n",
    "print(\"\\nCapabilities:\")\n",
    "for cap_id, cap in self_model['capabilities']['capabilities'].items():\n",
    "    print(f\"  {cap_id}: {cap['performance']:.2f} (confidence: {cap['confidence']:.2f})\")\n",
    "\n",
    "# Display resource info if available\n",
    "if 'last_state' in self_model:\n",
    "    print(\"\\nResource Usage:\")\n",
    "    state = self_model['last_state']\n",
    "    if 'memory_percent' in state:\n",
    "        print(f\"  Memory: {state['memory_percent']:.1f}%\")\n",
    "    if 'cpu_percent' in state:\n",
    "        print(f\"  CPU: {state['cpu_percent']:.1f}%\")"
   ]
  },
  {
   "cell_type": "markdown",
   "id": "8c63ec13",
   "metadata": {},
   "source": [
    "## 3. Explore Emotional Dimensionality Framework\n",
    "\n",
    "Now let's examine the emotional analysis capabilities."
   ]
  },
  {
   "cell_type": "code",
   "execution_count": null,
   "id": "edb81a7d",
   "metadata": {},
   "outputs": [],
   "source": [
    "# Sample texts to analyze\n",
    "texts = [\n",
    "    \"I'm really happy with the system performance today!\",\n",
    "    \"The memory usage is concerning, we might have a problem.\",\n",
    "    \"Everything is functioning within normal parameters.\",\n",
    "    \"The system crashed again! This is extremely frustrating.\",\n",
    "    \"I'm impressed by the consistent reliability of the framework.\"\n",
    "]\n",
    "\n",
    "# Analyze each text\n",
    "for text in texts:\n",
    "    print(f\"\\nText: {text}\")\n",
    "    \n",
    "    # Get emotional state\n",
    "    state = edf_framework.analyze(text)\n",
    "    \n",
    "    # Get dominant emotion\n",
    "    emotion, confidence = edf_framework.dominant_emotion(state)\n",
    "    print(f\"Dominant Emotion: {emotion} (confidence: {confidence:.2f})\")\n",
    "    \n",
    "    # Show dimensional values\n",
    "    print(\"Dimensional Analysis:\")\n",
    "    for dim, value in state.dimensions.items():\n",
    "        print(f\"  {dim}: {value:.2f}\")"
   ]
  },
  {
   "cell_type": "markdown",
   "id": "4353d275",
   "metadata": {},
   "source": [
    "## 4. Integrate Both Frameworks\n",
    "\n",
    "Now, let's connect both frameworks using the integration bridge."
   ]
  },
  {
   "cell_type": "code",
   "execution_count": null,
   "id": "05420174",
   "metadata": {},
   "outputs": [],
   "source": [
    "# Import the integration module\n",
    "from system.ai_frameworks.integration import AwarenessEmotionalBridge\n",
    "\n",
    "# Create the bridge\n",
    "bridge = AwarenessEmotionalBridge(sa_framework, edf_framework)\n",
    "\n",
    "# Start the integration\n",
    "bridge.start_bridge()\n",
    "\n",
    "print(\"Integration bridge started\")"
   ]
  },
  {
   "cell_type": "code",
   "execution_count": null,
   "id": "29d29650",
   "metadata": {},
   "outputs": [],
   "source": [
    "# Give the bridge time to process\n",
    "time.sleep(10)\n",
    "\n",
    "# Get the emotional state of the system\n",
    "system_emotion = bridge.get_emotional_state()\n",
    "\n",
    "print(\"System Emotional State:\")\n",
    "print(f\"Dominant Emotion: {system_emotion['dominant_emotion']}\")\n",
    "print(f\"Confidence: {system_emotion['confidence']:.2f}\")\n",
    "print(\"\\nEmotional Dimensions:\")\n",
    "for dim, value in system_emotion['dimensions'].items():\n",
    "    print(f\"  {dim}: {value:.2f}\")"
   ]
  },
  {
   "cell_type": "markdown",
   "id": "3a3c1095",
   "metadata": {},
   "source": [
    "## 5. Analyze Potential Actions\n",
    "\n",
    "Now let's use the bridge to analyze the emotional impact of potential actions."
   ]
  },
  {
   "cell_type": "code",
   "execution_count": null,
   "id": "11a66a35",
   "metadata": {},
   "outputs": [],
   "source": [
    "# Potential actions to consider\n",
    "actions = [\n",
    "    \"Increase memory allocation to improve performance\",\n",
    "    \"Reduce processing load by shutting down non-essential tasks\",\n",
    "    \"Force restart the system immediately\",\n",
    "    \"Wait and continue monitoring for further changes\",\n",
    "    \"Allocate additional resources to critical operations\"\n",
    "]\n",
    "\n",
    "# Analyze each action\n",
    "for action in actions:\n",
    "    print(f\"\\nAction: {action}\")\n",
    "    impact = bridge.analyze_emotional_impact(action)\n",
    "    \n",
    "    # Check if analysis was successful\n",
    "    if 'error' in impact:\n",
    "        print(f\"Error: {impact['error']}\")\n",
    "        continue\n",
    "    \n",
    "    print(f\"Emotional Distance: {impact['emotional_distance']:.2f}\")\n",
    "    print(f\"Would improve system state: {impact['is_improvement']}\")\n",
    "    print(f\"Confidence: {impact['confidence']:.2f}\")\n",
    "    \n",
    "    # Show current vs projected valence\n",
    "    current_valence = impact['current_state']['dimensions'].get('valence', 0)\n",
    "    projected_valence = impact['projected_state']['dimensions'].get('valence', 0)\n",
    "    print(f\"Valence change: {current_valence:.2f} -> {projected_valence:.2f}\")"
   ]
  },
  {
   "cell_type": "markdown",
   "id": "62a1ccc3",
   "metadata": {},
   "source": [
    "## 6. Visualize the Emotional Space\n",
    "\n",
    "Let's create a visualization of the emotional dimensional space."
   ]
  },
  {
   "cell_type": "code",
   "execution_count": null,
   "id": "7f23108f",
   "metadata": {},
   "outputs": [],
   "source": [
    "# Analyze multiple texts\n",
    "more_texts = texts + [\n",
    "    \"I'm feeling uncertain about the next steps.\",\n",
    "    \"This is absolutely wonderful news!\",\n",
    "    \"I'm deeply disappointed by the results.\",\n",
    "    \"The system is operating at peak efficiency.\",\n",
    "    \"We need to carefully consider our options.\"\n",
    "]\n",
    "\n",
    "# Collect dimensional data\n",
    "valence_values = []\n",
    "arousal_values = []\n",
    "dominance_values = []\n",
    "labels = []\n",
    "\n",
    "for text in more_texts:\n",
    "    state = edf_framework.analyze(text)\n",
    "    emotion, _ = edf_framework.dominant_emotion(state)\n",
    "    \n",
    "    valence_values.append(state.dimensions.get('valence', 0))\n",
    "    arousal_values.append(state.dimensions.get('arousal', 0))\n",
    "    dominance_values.append(state.dimensions.get('dominance', 0))\n",
    "    labels.append(emotion)\n",
    "\n",
    "# Create a 2D plot (valence vs arousal)\n",
    "plt.figure(figsize=(10, 8))\n",
    "plt.scatter(valence_values, arousal_values, c=dominance_values, \n",
    "            cmap='viridis', s=100, alpha=0.7)\n",
    "\n",
    "# Add labels\n",
    "for i, (x, y, label) in enumerate(zip(valence_values, arousal_values, labels)):\n",
    "    plt.annotate(label, (x, y), xytext=(5, 5), textcoords='offset points')\n",
    "\n",
    "# Add system emotional state\n",
    "system_valence = system_emotion['dimensions'].get('valence', 0)\n",
    "system_arousal = system_emotion['dimensions'].get('arousal', 0)\n",
    "plt.scatter([system_valence], [system_arousal], c='red', s=200, marker='*')\n",
    "plt.annotate('SYSTEM', (system_valence, system_arousal), \n",
    "             xytext=(10, 10), textcoords='offset points', \n",
    "             color='red', fontweight='bold')\n",
    "\n",
    "# Add axes labels and title\n",
    "plt.axhline(y=0, color='k', linestyle='-', alpha=0.3)\n",
    "plt.axvline(x=0, color='k', linestyle='-', alpha=0.3)\n",
    "plt.xlabel('Valence (Negative to Positive)')\n",
    "plt.ylabel('Arousal (Calm to Excited)')\n",
    "plt.title('Emotional Dimensional Space')\n",
    "plt.colorbar(label='Dominance')\n",
    "plt.grid(alpha=0.3)\n",
    "plt.tight_layout()\n",
    "plt.show()"
   ]
  },
  {
   "cell_type": "markdown",
   "id": "fc2ea227",
   "metadata": {},
   "source": [
    "## 7. Clean Up\n",
    "\n",
    "Finally, let's clean up and stop the frameworks."
   ]
  },
  {
   "cell_type": "code",
   "execution_count": null,
   "id": "9ac7f4a5",
   "metadata": {},
   "outputs": [],
   "source": [
    "# Stop the bridge\n",
    "bridge.stop_bridge()\n",
    "\n",
    "# Stop frameworks\n",
    "sa_framework.stop()\n",
    "\n",
    "print(\"Frameworks stopped\")"
   ]
  }
 ],
 "metadata": {
  "language_info": {
   "name": "python"
  }
 },
 "nbformat": 4,
 "nbformat_minor": 5
}
