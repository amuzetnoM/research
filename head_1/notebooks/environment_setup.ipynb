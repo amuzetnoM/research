{
 "cells": [
  {
   "cell_type": "markdown",
   "id": "66111b24",
   "metadata": {},
   "source": [
    "# Research Environment Setup Guide\n",
    "\n",
    "This notebook provides an interactive guide to setting up and configuring the research environment."
   ]
  },
  {
   "cell_type": "markdown",
   "id": "23f56d40",
   "metadata": {},
   "source": [
    "## 1. Environment Information\n",
    "\n",
    "First, let's check the current environment configuration and system resources."
   ]
  },
  {
   "cell_type": "code",
   "execution_count": null,
   "id": "45984c4e",
   "metadata": {},
   "outputs": [],
   "source": [
    "import sys\n",
    "import os\n",
    "import platform\n",
    "import subprocess\n",
    "import psutil\n",
    "\n",
    "# System information\n",
    "print(f\"Python version: {platform.python_version()}\")\n",
    "print(f\"Platform: {platform.platform()}\")\n",
    "print(f\"CPU cores: {os.cpu_count()}\")\n",
    "print(f\"Memory: {psutil.virtual_memory().total / (1024**3):.1f} GB\")\n",
    "\n",
    "# Check for GPU\n",
    "def check_gpu():\n",
    "    try:\n",
    "        output = subprocess.check_output(['nvidia-smi'], stderr=subprocess.STDOUT).decode('utf-8')\n",
    "        return f\"GPU detected:\\n{output.splitlines()[0]}\\n{output.splitlines()[1]}\"\n",
    "    except (subprocess.SubprocessError, FileNotFoundError):\n",
    "        return \"No NVIDIA GPU detected or drivers not installed\"\n",
    "\n",
    "print(check_gpu())"
   ]
  },
  {
   "cell_type": "markdown",
   "id": "df251450",
   "metadata": {},
   "source": [
    "## 2. Required Dependencies\n",
    "\n",
    "The following packages are required for the research environment. Let's check if they're installed."
   ]
  },
  {
   "cell_type": "code",
   "execution_count": null,
   "id": "91b91224",
   "metadata": {},
   "outputs": [],
   "source": [
    "# Check installed packages\n",
    "def check_package(package_name):\n",
    "    try:\n",
    "        __import__(package_name)\n",
    "        return True\n",
    "    except ImportError:\n",
    "        return False\n",
    "\n",
    "essential_packages = [\n",
    "    'numpy', 'pandas', 'matplotlib', 'scipy', 'sklearn',\n",
    "    'torch', 'tensorflow', 'jupyter', 'plotly'\n",
    "]\n",
    "\n",
    "print(\"Package Status:\")\n",
    "for package in essential_packages:\n",
    "    status = \"✓ Installed\" if check_package(package) else \"✗ Not installed\"\n",
    "    print(f\"{package}: {status}\")"
   ]
  },
  {
   "cell_type": "markdown",
   "id": "a39f6a84",
   "metadata": {},
   "source": [
    "### Install Missing Packages\n",
    "\n",
    "You can run the cell below to install any missing packages."
   ]
  },
  {
   "cell_type": "code",
   "execution_count": null,
   "id": "59700107",
   "metadata": {},
   "outputs": [],
   "source": [
    "# Install missing packages\n",
    "def install_missing_packages():\n",
    "    missing_packages = [pkg for pkg in essential_packages if not check_package(pkg)]\n",
    "    \n",
    "    if not missing_packages:\n",
    "        print(\"All essential packages are already installed.\")\n",
    "        return\n",
    "    \n",
    "    print(f\"Installing missing packages: {', '.join(missing_packages)}\")\n",
    "    \n",
    "    for package in missing_packages:\n",
    "        print(f\"Installing {package}...\")\n",
    "        try:\n",
    "            # Use a subprocess to avoid affecting the current Python process\n",
    "            subprocess.check_call([sys.executable, '-m', 'pip', 'install', package])\n",
    "            print(f\"{package} installed successfully.\")\n",
    "        except subprocess.CalledProcessError:\n",
    "            print(f\"Failed to install {package}. Please install it manually.\")\n",
    "    \n",
    "    print(\"\\nPackage installation complete. You may need to restart the kernel.\")\n",
    "    print(\"Use the 'Kernel > Restart Kernel' menu option to restart.\")\n",
    "\n",
    "# Uncomment to run\n",
    "# install_missing_packages()"
   ]
  },
  {
   "cell_type": "markdown",
   "id": "dbf82f36",
   "metadata": {},
   "source": [
    "## 3. Docker Configuration\n",
    "\n",
    "Check if Docker is installed and properly configured."
   ]
  },
  {
   "cell_type": "code",
   "execution_count": null,
   "id": "c3706f8d",
   "metadata": {},
   "outputs": [],
   "source": [
    "# Check Docker installation\n",
    "def check_docker():\n",
    "    try:\n",
    "        output = subprocess.check_output(['docker', '--version'], stderr=subprocess.STDOUT).decode('utf-8')\n",
    "        docker_compose_output = subprocess.check_output(['docker-compose', '--version'], stderr=subprocess.STDOUT).decode('utf-8')\n",
    "        return f\"Docker: {output.strip()}\\nDocker Compose: {docker_compose_output.strip()}\"\n",
    "    except (subprocess.SubprocessError, FileNotFoundError):\n",
    "        return \"Docker not found. Please install Docker and Docker Compose.\"\n",
    "\n",
    "# Check NVIDIA Docker\n",
    "def check_nvidia_docker():\n",
    "    try:\n",
    "        output = subprocess.check_output(['docker', 'info'], stderr=subprocess.STDOUT).decode('utf-8')\n",
    "        if 'nvidia' in output:\n",
    "            return \"NVIDIA Docker runtime is available.\"\n",
    "        else:\n",
    "            return \"NVIDIA Docker runtime not detected. GPU containers may not work properly.\"\n",
    "    except (subprocess.SubprocessError, FileNotFoundError):\n",
    "        return \"Unable to check Docker configuration.\"\n",
    "\n",
    "print(check_docker())\n",
    "print(\"\\n\" + check_nvidia_docker())"
   ]
  },
  {
   "cell_type": "markdown",
   "id": "f49627ed",
   "metadata": {},
   "source": [
    "### Docker Setup Instructions\n",
    "\n",
    "If Docker is not installed or properly configured, follow these instructions:"
   ]
  },
  {
   "cell_type": "markdown",
   "id": "1157ae78",
   "metadata": {},
   "source": [
    "#### Installing Docker\n",
    "\n",
    "**For Windows:**\n",
    "1. Download and install Docker Desktop from [https://www.docker.com/products/docker-desktop](https://www.docker.com/products/docker-desktop)\n",
    "2. Follow the installation instructions\n",
    "3. Start Docker Desktop from the Start menu\n",
    "\n",
    "**For macOS:**\n",
    "1. Download and install Docker Desktop from [https://www.docker.com/products/docker-desktop](https://www.docker.com/products/docker-desktop)\n",
    "2. Follow the installation instructions\n",
    "3. Start Docker Desktop from the Applications folder\n",
    "\n",
    "**For Linux (Ubuntu):**\n",
    "```bash\n",
    "# Update package index\n",
    "sudo apt-get update\n",
    "\n",
    "# Install prerequisites\n",
    "sudo apt-get install apt-transport-https ca-certificates curl software-properties-common\n",
    "\n",
    "# Add Docker's official GPG key\n",
    "curl -fsSL https://download.docker.com/linux/ubuntu/gpg | sudo apt-key add -\n",
    "\n",
    "# Add Docker repository\n",
    "sudo add-apt-repository \"deb [arch=amd64] https://download.docker.com/linux/ubuntu $(lsb_release -cs) stable\"\n",
    "\n",
    "# Update package index again\n",
    "sudo apt-get update\n",
    "\n",
    "# Install Docker\n",
    "sudo apt-get install docker-ce docker-compose\n",
    "\n",
    "# Add your user to the docker group\n",
    "sudo usermod -aG docker $USER\n",
    "```\n",
    "\n",
    "#### Setting up NVIDIA Docker (for GPU support)\n",
    "\n",
    "```bash\n",
    "# Add the NVIDIA Container Toolkit package repositories\n",
    "distribution=$(. /etc/os-release;echo $ID$VERSION_ID)\n",
    "curl -s -L https://nvidia.github.io/nvidia-docker/gpgkey | sudo apt-key add -\n",
    "curl -s -L https://nvidia.github.io/nvidia-docker/$distribution/nvidia-docker.list | sudo tee /etc/apt/sources.list.d/nvidia-docker.list\n",
    "\n",
    "# Update the package listing\n",
    "sudo apt-get update\n",
    "\n",
    "# Install nvidia-docker2 package\n",
    "sudo apt-get install -y nvidia-docker2\n",
    "\n",
    "# Restart Docker service\n",
    "sudo systemctl restart docker\n",
    "```"
   ]
  },
  {
   "cell_type": "markdown",
   "id": "78a5dd0d",
   "metadata": {},
   "source": [
    "## 4. GPU Setup and Configuration\n",
    "\n",
    "Run the GPU setup script to configure the environment for optimal GPU usage."
   ]
  },
  {
   "cell_type": "code",
   "execution_count": null,
   "id": "e663b2e4",
   "metadata": {},
   "outputs": [],
   "source": [
    "# Run GPU setup script\n",
    "def run_gpu_setup():\n",
    "    script_path = os.path.join('..', 'setup', 'gpu_setup.sh')\n",
    "    \n",
    "    if not os.path.exists(script_path):\n",
    "        print(f\"GPU setup script not found at {script_path}\")\n",
    "        return\n",
    "    \n",
    "    if platform.system() == \"Windows\":\n",
    "        print(\"For Windows, please run the GPU setup script manually from a command prompt:\")\n",
    "        print(\"1. Open a command prompt with administrator privileges\")\n",
    "        print(\"2. Navigate to the setup directory\")\n",
    "        print(\"3. Run: bash gpu_setup.sh\")\n",
    "        return\n",
    "    \n",
    "    print(\"Running GPU setup script. This may take a few minutes...\")\n",
    "    try:\n",
    "        # Make script executable\n",
    "        subprocess.check_call(['chmod', '+x', script_path])\n",
    "        \n",
    "        # Run script\n",
    "        output = subprocess.check_output(['bash', script_path], stderr=subprocess.STDOUT).decode('utf-8')\n",
    "        print(output)\n",
    "        print(\"GPU setup completed successfully.\")\n",
    "    except subprocess.CalledProcessError as e:\n",
    "        print(f\"GPU setup failed with error code {e.returncode}:\")\n",
    "        print(e.output.decode('utf-8'))\n",
    "        print(\"\\nYou may need to run the script manually with sudo privileges.\")\n",
    "\n",
    "# Uncomment to run\n",
    "# run_gpu_setup()"
   ]
  },
  {
   "cell_type": "markdown",
   "id": "625f0812",
   "metadata": {},
   "source": [
    "## 5. Test Environment\n",
    "\n",
    "Now let's test the environment to ensure everything is working properly."
   ]
  },
  {
   "cell_type": "code",
   "execution_count": null,
   "id": "b10fe77d",
   "metadata": {},
   "outputs": [],
   "source": [
    "# Import system utilities for testing\n",
    "sys.path.append('..')\n",
    "try:\n",
    "    from utils.system_utils import system_manager\n",
    "    from utils.gpu_utils import gpu_manager\n",
    "    \n",
    "    # System resources\n",
    "    system_summary = system_manager.get_system_summary()\n",
    "    print(\"System Resources:\")\n",
    "    print(f\"CPU Usage: {system_summary['cpu_percent']:.1f}%\")\n",
    "    print(f\"Memory Usage: {system_summary['memory_percent']:.1f}%\")\n",
    "    print(f\"Disk Usage: {system_summary['disk_percent']:.1f}%\")\n",
    "    \n",
    "    # GPU resources\n",
    "    gpu_available = gpu_manager.check_gpu_availability()\n",
    "    print(f\"\\nGPU Available: {gpu_available}\")\n",
    "    \n",
    "    if gpu_available:\n",
    "        gpu_info = gpu_manager.get_gpu_info()\n",
    "        for idx, gpu in enumerate(gpu_info):\n",
    "            print(f\"GPU {idx}: {gpu.get('name', 'Unknown')}\")\n",
    "            print(f\"  Memory: {gpu.get('memory_used_mb', 0)} MB / {gpu.get('memory_total_mb', 0)} MB\")\n",
    "            print(f\"  Utilization: {gpu.get('utilization_percent', 0)}%\")\n",
    "    \n",
    "    print(\"\\nEnvironment test completed successfully!\")\n",
    "except ImportError as e:\n",
    "    print(f\"Import error: {e}\")\n",
    "    print(\"The utility modules may not be properly installed.\")\n",
    "    print(\"Make sure you've run the setup scripts in the setup directory.\")\n",
    "except Exception as e:\n",
    "    print(f\"Error while testing environment: {e}\")"
   ]
  },
  {
   "cell_type": "markdown",
   "id": "939d89ff",
   "metadata": {},
   "source": [
    "## 6. Next Steps\n",
    "\n",
    "Now that your environment is set up, here are some next steps you can take:"
   ]
  },
  {
   "cell_type": "markdown",
   "id": "f0bec06c",
   "metadata": {},
   "source": [
    "1. **Explore system diagnostics**: Check the `system_diagnostics.ipynb` notebook for detailed system monitoring.\n",
    "\n",
    "2. **Test GPU performance**: Run the `gpu_performance_testing.ipynb` notebook to benchmark your GPU performance.\n",
    "\n",
    "3. **Work with Docker containers**: Use the `environment_manager.py` script to start containerized environments:\n",
    "   ```bash\n",
    "   python environment_manager.py --enable-monitoring\n",
    "   ```\n",
    "\n",
    "4. **Configure monitoring**: Set up monitoring dashboards by enabling the monitoring options:\n",
    "   ```bash\n",
    "   python environment_manager.py --enable-monitoring --monitor-port 3000\n",
    "   ```\n",
    "\n",
    "5. **Add custom frameworks**: Extend the environment with additional frameworks by modifying the Docker configurations in the `docker` directory.\n",
    "\n",
    "6. **Create your own experiments**: Use the `notebooks` directory to create and organize your research experiments."
   ]
  }
 ],
 "metadata": {
  "language_info": {
   "name": "python"
  }
 },
 "nbformat": 4,
 "nbformat_minor": 5
}
